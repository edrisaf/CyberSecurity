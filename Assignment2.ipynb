{
 "cells": [
  {
   "cell_type": "code",
   "execution_count": 1,
   "metadata": {},
   "outputs": [],
   "source": [
    "from Crypto.Cipher import AES\n",
    "import binascii\n",
    "from base64 import b64encode, b64decode"
   ]
  },
  {
   "cell_type": "code",
   "execution_count": 2,
   "metadata": {},
   "outputs": [],
   "source": [
    "def init_global():\n",
    "    #global parameters\n",
    "    p = 353\n",
    "    g = 3\n",
    "    return p, g"
   ]
  },
  {
   "cell_type": "code",
   "execution_count": 3,
   "metadata": {},
   "outputs": [],
   "source": [
    "def generate_keys(PRA, PRB):\n",
    "    p, g = init_global()\n",
    "    print('Global parameters \\n', 'p:', p , 'g:', g)\n",
    "    print('Private keys \\n', 'Alices private key:', PRA, '\\n Bobs private key:', PRB)\n",
    "    \n",
    "    #Generating public keys\n",
    "    PUA = (g**PRA)%p\n",
    "    PUB = (g**PRB)%p\n",
    "    print('Alice sends her public key to Bob:', PUA)\n",
    "    print('Bob sends his public key to Alice:', PUB)\n",
    "    \n",
    "    #Generating shared keys\n",
    "    Alice_Kab = (PUB**PRA)%p\n",
    "    Bob_Kab = (PUA**PRB)%p\n",
    "    print('Alice generates a shared key:', Alice_Kab)\n",
    "    print('Bob generates a shared key:', Bob_Kab)\n",
    "    if Alice_Kab == Bob_Kab:\n",
    "        shared_key = Alice_Kab\n",
    "    return shared_key"
   ]
  },
  {
   "cell_type": "code",
   "execution_count": null,
   "metadata": {},
   "outputs": [],
   "source": [
    "def BBS_generator(Kab):\n",
    "    seed = Kab\n",
    "    key_length = 64        #Fixed because this is the only length that will give an acceptable input for AES\n",
    "    M = 43*47              #p and q, randomly chosen primes, high values to get a wider cycle\n",
    "    key = ''\n",
    "    for i in range(0, key_length): #BBS formumla realization\n",
    "        seed = (seed**2)%M\n",
    "        bit = seed & 1           #Bit selection method; keeping only the LSB\n",
    "        key += str(bit)\n",
    "    key = hex(int(key, 2))    #Transforming the binary key to hex-dec\n",
    "    return key"
   ]
  },
  {
   "cell_type": "code",
   "execution_count": null,
   "metadata": {},
   "outputs": [],
   "source": []
  },
  {
   "cell_type": "code",
   "execution_count": 5,
   "metadata": {},
   "outputs": [],
   "source": [
    "def encrypt(message, key):\n",
    "    key = key[2:]            #Removing \"0x\" from the key\n",
    "    key = bytes(key, 'utf-8')  #Re-casting the key to bytes instead of nibbles\n",
    "    aes = AES.new(key, AES.MODE_ECB) #Creating AES object\n",
    "    plain = message\n",
    "    block_size = 16\n",
    "    ciphertext = b''\n",
    "#Splitting the message into 16 byte pieces. Each piece is then encrypted individually\n",
    "    while len(plain) > 0:\n",
    "        block = plain[0:block_size]\n",
    "        if len(block)<block_size:\n",
    "            block = block + ' '*(block_size-len(block))\n",
    "        ciphertext += aes.encrypt(block)\n",
    "        plain = plain[block_size:]\n",
    "    \n",
    "    return b64encode(ciphertext).decode()     #b64encode to re-format the cipher into text instead of hex-dec \n",
    "\n"
   ]
  },
  {
   "cell_type": "code",
   "execution_count": 6,
   "metadata": {},
   "outputs": [],
   "source": [
    "def decrypt(ciphertext, key):\n",
    "    key = key[2:]\n",
    "    ciphertext = b64decode(ciphertext.encode())\n",
    "    key = bytes(key, 'utf-8')\n",
    "    aes = AES.new(key, AES.MODE_ECB)\n",
    "    plaintext = aes.decrypt(ciphertext)\n",
    "    return plaintext.decode()"
   ]
  },
  {
   "cell_type": "code",
   "execution_count": null,
   "metadata": {
    "scrolled": false
   },
   "outputs": [
    {
     "name": "stdout",
     "output_type": "stream",
     "text": [
      "Alice, choose your private key:142\n",
      "Bob, choose your private key:87\n",
      "Global parameters \n",
      " p: 353 g: 3\n",
      "Private keys \n",
      " Alices private key: 142 \n",
      " Bobs private key: 87\n",
      "Alice sends her public key to Bob: 72\n",
      "Bob sends his public key to Alice: 339\n",
      "Alice generates a shared key: 201\n",
      "Bob generates a shared key: 201\n",
      "BBS generated key, binary:  0111100000101111111000110111001101000000101010100001111001101110\n",
      "Using BBS generator, Alice and Bob generates a more secure key:  0x782fe37340aa1e6e\n",
      "Do you want to encrypt or decrypt? \n",
      " 1 for encrypt; 2 for decrypt: 1\n",
      "Enter the message you want to encrypt: Hello Bob\n",
      "The encrypted message is:  INPxfI3FiLoD3Ioph6ZuWw==\n",
      "Encrypt or decrypt again? 1 for yes; anything else for no: 1\n",
      "Do you want to encrypt or decrypt? \n",
      " 1 for encrypt; 2 for decrypt: 2\n",
      "Enter the message you want to decrypt: INPxfI3FiLoD3Ioph6ZuWw==\n",
      "The depcrypted message is:  Hello Bob       \n",
      "Encrypt or decrypt again? 1 for yes; anything else for no: 1\n",
      "Do you want to encrypt or decrypt? \n",
      " 1 for encrypt; 2 for decrypt: 1\n",
      "Enter the message you want to encrypt: Hello Bob. Alice here, I was just wondering if this is a secure communication channel?\n",
      "The encrypted message is:  AtpszpR0BG1/Mme9jqr/2mgY/bIGwaC2u9SuNxJ170wdnnSyhK7PxpJqgsMG44HaB8L/ZdzoZ3cs7iASY0uxBILSF79/Pj+px04qeWZb3hGzEJnzLVwYC1ROZXoOAWVK\n",
      "Encrypt or decrypt again? 1 for yes; anything else for no: 1\n",
      "Do you want to encrypt or decrypt? \n",
      " 1 for encrypt; 2 for decrypt: 2\n",
      "Enter the message you want to decrypt: AtpszpR0BG1/Mme9jqr/2mgY/bIGwaC2u9SuNxJ170wdnnSyhK7PxpJqgsMG44HaB8L/ZdzoZ3cs7iASY0uxBILSF79/Pj+px04qeWZb3hGzEJnzLVwYC1ROZXoOAWVK\n",
      "The depcrypted message is:  Hello Bob. Alice here, I was just wondering if this is a secure communication channel?          \n"
     ]
    }
   ],
   "source": [
    "#Random secret keys\n",
    "PRA = eval(input('Alice, choose your private key:'))\n",
    "PRB = eval(input('Bob, choose your private key:'))\n",
    "\n",
    "shared_key = generate_keys(PRA, PRB)\n",
    "BBS_key = BBS_generator(shared_key)\n",
    "print('Using BBS generator, Alice and Bob generates a more secure key: ', BBS_key)\n",
    "\n",
    "a = True\n",
    "while a == True:\n",
    "    b = True\n",
    "    while b == True:\n",
    "        EorD = eval(input('Do you want to encrypt or decrypt? \\n 1 for encrypt; 2 for decrypt: '))\n",
    "\n",
    "        if EorD == 1:\n",
    "            message = input('Enter the message you want to encrypt: ')\n",
    "            cipher = encrypt(message, BBS_key)\n",
    "            print('The encrypted message is: ',cipher)\n",
    "            b = False\n",
    "        elif EorD == 2:\n",
    "            message = input('Enter the message you want to decrypt: ')\n",
    "            plain = decrypt(cipher, BBS_key)\n",
    "            print('The depcrypted message is: ',plain)\n",
    "            b = False\n",
    "        else:\n",
    "            print('Incorrect choice entered. Try again!')\n",
    "            \n",
    "    repeat = eval(input('Encrypt or decrypt again? 1 for yes; anything else for no: '))\n",
    "    if repeat != 1:\n",
    "        print('Session ended.')\n",
    "        a = False\n",
    "\n"
   ]
  },
  {
   "cell_type": "code",
   "execution_count": null,
   "metadata": {},
   "outputs": [],
   "source": []
  },
  {
   "cell_type": "code",
   "execution_count": null,
   "metadata": {},
   "outputs": [],
   "source": []
  },
  {
   "cell_type": "code",
   "execution_count": null,
   "metadata": {},
   "outputs": [],
   "source": []
  }
 ],
 "metadata": {
  "kernelspec": {
   "display_name": "Python 3",
   "language": "python",
   "name": "python3"
  },
  "language_info": {
   "codemirror_mode": {
    "name": "ipython",
    "version": 3
   },
   "file_extension": ".py",
   "mimetype": "text/x-python",
   "name": "python",
   "nbconvert_exporter": "python",
   "pygments_lexer": "ipython3",
   "version": "3.7.1"
  }
 },
 "nbformat": 4,
 "nbformat_minor": 2
}
