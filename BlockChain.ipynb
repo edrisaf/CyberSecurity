{
 "cells": [
  {
   "cell_type": "code",
   "execution_count": 1,
   "metadata": {},
   "outputs": [],
   "source": [
    "import numpy as np\n",
    "from datetime import datetime"
   ]
  },
  {
   "cell_type": "markdown",
   "metadata": {},
   "source": [
    "# Message processing"
   ]
  },
  {
   "cell_type": "code",
   "execution_count": 10,
   "metadata": {},
   "outputs": [],
   "source": [
    "#Transform the text message to binary\n",
    "def toBinary(message):\n",
    "     return ''.join(format(ord(char), '08b') for char in message)"
   ]
  },
  {
   "cell_type": "code",
   "execution_count": 3,
   "metadata": {},
   "outputs": [],
   "source": [
    "def pad_and_create_Blocks(bstring):\n",
    "    l = len(bstring)\n",
    "    temp = bstring\n",
    "    blocks = []\n",
    "    #Dividing the binary represenation of a message into blocks of 512 bits\n",
    "    while len(temp)>0:\n",
    "        block = temp[:512]\n",
    "        if len(block) < 512:     # Padding blocks of less than 512 bits\n",
    "            len_final_block = len(block)\n",
    "            bin_len = '{:08b}'.format(len_final_block)\n",
    "            block = temp + '1' + '0'*(512-len_final_block - len(bin_len) -1) + bin_len\n",
    "            \n",
    "        blocks.append(block)\n",
    "        temp = temp[512:]\n",
    "    return blocks\n"
   ]
  },
  {
   "cell_type": "markdown",
   "metadata": {},
   "source": [
    "# SHA1 algorithm"
   ]
  },
  {
   "cell_type": "code",
   "execution_count": 4,
   "metadata": {},
   "outputs": [],
   "source": [
    "def left_rot(data, n):\n",
    "    return ((data << n) | (data >> (32 - n))) & 0xffffffff  #returns data left-shifted by n"
   ]
  },
  {
   "cell_type": "code",
   "execution_count": 21,
   "metadata": {},
   "outputs": [],
   "source": [
    "def SHA1(data):\n",
    "    data = toBinary(data)\n",
    "    blocks = pad_and_create_Blocks(data)\n",
    "    \n",
    "    h0 = 0x67452301              #SHA1 chaining variables\n",
    "    h1 = 0xEFCDAB89\n",
    "    h2 = 0x98BADCFE\n",
    "    h3 = 0x10325476\n",
    "    h4 = 0xC3D2E1F0\n",
    "\n",
    "    K = [\n",
    "    0x5A827999, # ( 0 <= i <= 19)     #SHA1 iteration constants\n",
    "    0x6ED9EBA1, # (20 <= i <= 39)\n",
    "    0x8F1BBCDC, # (40 <= i <= 59)\n",
    "    0xCA62C1D6  # (60 <= i <= 79)\n",
    "    ]\n",
    "    \n",
    "    for block in blocks:\n",
    "        a = h0\n",
    "        b = h1\n",
    "        c = h2\n",
    "        d = h3\n",
    "        e = h4\n",
    "\n",
    "        #divide each 512-bit block into 16 blocks of 32 bits to create w-values\n",
    "        sub_blocks = []\n",
    "        while len(block)>0:                           \n",
    "            sub_blocks.append(block[:32])\n",
    "            block = block[32:]\n",
    "        \n",
    "        w = [0]*80\n",
    "        for i in range(0, 16):             # First 16 values of w is the content of sub-blocks\n",
    "            w[i] = int(sub_blocks[i], 2)\n",
    "        for i in range(16, 80):\n",
    "            w[i] = left_rot(w[i-3] ^ w[i-8] ^ w[i-14] ^ w[i-16], 1)  # formula for calculating the rest of w, 16-80\n",
    "        \n",
    "        for i in range(0, 80):     # the 80 iterations of SHA1\n",
    "            if 0 <= i <= 19:\n",
    "                p = (b & c) | ((~b) & d)\n",
    "                k = K[0]\n",
    "            elif 20 <= i <= 39:\n",
    "                p = b ^ c ^ d\n",
    "                k = K[1]\n",
    "            elif 40 <= i <= 59:\n",
    "                p = (b & c) | (b & d) | (c & d) \n",
    "                k = K[2]\n",
    "            elif 60 <= i <= 79:\n",
    "                p = b ^ c ^ d\n",
    "                k = K[3]\n",
    "\n",
    "            temp = left_rot(a, 5) + p + e + k + w[i] & 0xffffffff\n",
    "            e = d\n",
    "            d = c\n",
    "            c = left_rot(b, 30)\n",
    "            b = a\n",
    "            a = temp\n",
    "        #updating h0-h4, & 0xffffffff is used as a mask to do 32-bit integer math\n",
    "        h0 = (h0 + a) & 0xffffffff\n",
    "        h1 = (h1 + b) & 0xffffffff\n",
    "        h2 = (h2 + c) & 0xffffffff\n",
    "        h3 = (h3 + d) & 0xffffffff\n",
    "        h4 = (h4 + e) & 0xffffffff\n",
    "        h = [h0, h1, h2, h3, h4]\n",
    "    return \"\".join(hex(i)[2:] for i in h)"
   ]
  },
  {
   "cell_type": "markdown",
   "metadata": {},
   "source": [
    "# Merkle Tree"
   ]
  },
  {
   "cell_type": "code",
   "execution_count": 22,
   "metadata": {},
   "outputs": [],
   "source": [
    "def merkle(trans): #Takes as input a set of transactions\n",
    "    h_trans = []\n",
    "    for t in trans:\n",
    "        h_trans.append(SHA1(t))   # Transform each transaction and store\n",
    "\n",
    "    while len(h_trans) > 1:\n",
    "        temp = []\n",
    "        if not(len(h_trans) % 2 == 0):    # If transactions are not paired, add a copy of last transaction\n",
    "            h_trans.append(h_trans[-1])\n",
    "        \n",
    "        for i in range(0, len(h_trans), 2): # Hash each pair and store in \"temp\"\n",
    "            trans1 = h_trans[i]\n",
    "            trans2 = h_trans[i+1]\n",
    "\n",
    "            temp.append(SHA1(trans1 + trans2))\n",
    "         \n",
    "        h_trans = temp #finally, overwrite h_trans with the new hashed pairs\n",
    "\n",
    "    return h_trans"
   ]
  },
  {
   "cell_type": "markdown",
   "metadata": {},
   "source": [
    "# Block-chaining"
   ]
  },
  {
   "cell_type": "code",
   "execution_count": 7,
   "metadata": {},
   "outputs": [],
   "source": [
    "def new_block(block_nr, prev_hash, current_hash, transactions):     #Dictionary to hold block information\n",
    "    block = {\n",
    "    \"Header\": \"Block\" + str(block_nr),\n",
    "    \"timestamp\": datetime.now(),\n",
    "    \"PrevHash\": prev_hash,\n",
    "    \"Tx_Root\": current_hash,\n",
    "    \"transactions\": transactions\n",
    "    }\n",
    "    return block\n",
    "def print_block(block):                                            #Print function for a block\n",
    "    print(\"header:\", block[\"Header\"])\n",
    "    print(\"timestamp:\", block[\"timestamp\"])\n",
    "    print(\"PrevHash:\", block[\"PrevHash\"])\n",
    "    print(\"Tx_Root:\", block[\"Tx_Root\"])\n",
    "    print(\"transactions:\", block[\"transactions\"])"
   ]
  },
  {
   "cell_type": "code",
   "execution_count": 18,
   "metadata": {},
   "outputs": [
    {
     "name": "stdout",
     "output_type": "stream",
     "text": [
      "Press enter to start blockchain: \n",
      "Add a transaction or press enter to end block: Transaction 1\n",
      "Add a transaction or press enter to end block: Transaction 2\n",
      "Add a transaction or press enter to end block: \n",
      "Your new block is: \n",
      "header: Block1\n",
      "timestamp: 2019-10-30 21:43:07.883964\n",
      "PrevHash: no previous hash\n",
      "Tx_Root: ['2030dba9d388a634b71ccc12477802a1a9b72d3a']\n",
      "transactions: ['Transaction 1', 'Transaction 2']\n",
      "\n",
      "Current blockchain:\n",
      "header: Block1\n",
      "timestamp: 2019-10-30 21:43:07.883964\n",
      "PrevHash: no previous hash\n",
      "Tx_Root: ['2030dba9d388a634b71ccc12477802a1a9b72d3a']\n",
      "transactions: ['Transaction 1', 'Transaction 2']\n",
      "Enter '1' for new block or '2' to end chain: 1\n",
      "Add a transaction or press enter to end block: Transaction 3\n",
      "Add a transaction or press enter to end block: Transaction 4\n",
      "Add a transaction or press enter to end block: \n",
      "Your new block is: \n",
      "header: Block2\n",
      "timestamp: 2019-10-30 21:54:33.013794\n",
      "PrevHash: ['2030dba9d388a634b71ccc12477802a1a9b72d3a']\n",
      "Tx_Root: ['96659ef7706e34a5bd0a2d64b1709d60dbef4b98']\n",
      "transactions: ['Transaction 3', 'Transaction 4']\n",
      "\n",
      "Current blockchain:\n",
      "header: Block1\n",
      "timestamp: 2019-10-30 21:43:07.883964\n",
      "PrevHash: no previous hash\n",
      "Tx_Root: ['2030dba9d388a634b71ccc12477802a1a9b72d3a']\n",
      "transactions: ['Transaction 1', 'Transaction 2']\n",
      "header: Block2\n",
      "timestamp: 2019-10-30 21:54:33.013794\n",
      "PrevHash: ['2030dba9d388a634b71ccc12477802a1a9b72d3a']\n",
      "Tx_Root: ['96659ef7706e34a5bd0a2d64b1709d60dbef4b98']\n",
      "transactions: ['Transaction 3', 'Transaction 4']\n",
      "Enter '1' for new block or '2' to end chain: 2\n",
      "Blockchain session ended.\n"
     ]
    }
   ],
   "source": [
    "prompt = input(\"Press enter to start blockchain: \")\n",
    "if prompt == \"\":\n",
    "    start = True\n",
    "\n",
    "counter = 0\n",
    "blockchain = []\n",
    "while(start):\n",
    "    counter += 1\n",
    "\n",
    "    transactions = []\n",
    "    # Collect transactions and store them in transactions list\n",
    "    while(True):\n",
    "        trans = input(\"Add a transaction or press enter to end block: \")\n",
    "        if trans == '':\n",
    "            break\n",
    "        else:\n",
    "            transactions.append(trans)\n",
    "    hash_transactions = merkle(transactions)\n",
    "    if counter == 1: \n",
    "        prev_hash = 'no previous hash'  # The first block in the chain, therefore no previous block\n",
    "    else:\n",
    "        prev_hash = blockchain[counter-2][\"Tx_Root\"]\n",
    "    block = new_block(counter, prev_hash, hash_transactions, transactions)\n",
    "    \n",
    "    print(\"Your new block is: \")\n",
    "    print_block(block)\n",
    "    blockchain.append(block)\n",
    "    print(\"\")\n",
    "    print(\"Current blockchain:\")\n",
    "    \n",
    "    for block in blockchain:\n",
    "        print_block(block)\n",
    "    \n",
    "    prompt = eval(input(\"Enter '1' for new block or '2' to end chain: \"))\n",
    "    if prompt == 1:\n",
    "        continue\n",
    "    elif prompt == 2:\n",
    "        start = False\n",
    "        print('Blockchain session ended.')\n",
    "    \n",
    "\n",
    "    \n",
    "    "
   ]
  },
  {
   "cell_type": "code",
   "execution_count": null,
   "metadata": {},
   "outputs": [],
   "source": []
  },
  {
   "cell_type": "code",
   "execution_count": null,
   "metadata": {},
   "outputs": [],
   "source": []
  }
 ],
 "metadata": {
  "kernelspec": {
   "display_name": "Python 3",
   "language": "python",
   "name": "python3"
  },
  "language_info": {
   "codemirror_mode": {
    "name": "ipython",
    "version": 3
   },
   "file_extension": ".py",
   "mimetype": "text/x-python",
   "name": "python",
   "nbconvert_exporter": "python",
   "pygments_lexer": "ipython3",
   "version": "3.7.1"
  }
 },
 "nbformat": 4,
 "nbformat_minor": 2
}
