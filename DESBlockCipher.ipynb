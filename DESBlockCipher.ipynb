{
 "cells": [
  {
   "cell_type": "code",
   "execution_count": 2,
   "metadata": {},
   "outputs": [],
   "source": [
    "import numpy as np\n",
    "from operator import xor\n",
    "from IPython.display import clear_output"
   ]
  },
  {
   "cell_type": "code",
   "execution_count": 3,
   "metadata": {},
   "outputs": [],
   "source": [
    "def permutate(bits, positions):\n",
    "    permed = []\n",
    "    for i in range(0, len(positions)):\n",
    "        index = positions[i] - 1\n",
    "        permed.append(int(bits[index]))\n",
    "    return permed"
   ]
  },
  {
   "cell_type": "code",
   "execution_count": 4,
   "metadata": {},
   "outputs": [],
   "source": [
    "def keyGeneration(raw_key):\n",
    "    P10 = [3, 5, 2, 7, 4, 10, 1, 9, 8, 6]\n",
    "    P8 = [6, 3, 7, 4, 8, 5, 10, 9]\n",
    "    \n",
    "    P10perm = permutate(raw_key, P10)\n",
    "    P10LS1 = np.roll(P10perm[:5], -1)           #Left shift of 1\n",
    "    P10LS2 = np.roll(P10perm[5:], -1)\n",
    "    P10LS = list(P10LS1) + list(P10LS2)\n",
    "    K1 = permutate(P10LS, P8)\n",
    "    \n",
    "    P10LS1 = np.roll(P10LS1, -2)              #Left shift of 2\n",
    "    P10LS2 = np.roll(P10LS2, -2)\n",
    "    P10LS = list(P10LS1) + list(P10LS2)\n",
    "    K2 = permutate(P10LS, P8)\n",
    "    keys = {\n",
    "        \"K1\": K1,\n",
    "        \"K2\": K2\n",
    "    }\n",
    "    \n",
    "    return keys"
   ]
  },
  {
   "cell_type": "code",
   "execution_count": 5,
   "metadata": {},
   "outputs": [],
   "source": [
    "def XOR(bits, SK):\n",
    "    result = ''\n",
    "    for i in range(0, len(bits)):\n",
    "        result += str(int(bool(int(bits[i]) ^ int(SK[i]))))\n",
    "    return list(result)"
   ]
  },
  {
   "cell_type": "code",
   "execution_count": 6,
   "metadata": {},
   "outputs": [],
   "source": [
    "def f_k(bits, SK):\n",
    "    EP = [4, 1, 2, 3, 2, 3, 4, 1]\n",
    "    P4 = [2, 4, 3, 1]\n",
    "    S0 = [[1, 0, 3, 2],\n",
    "          [3, 2, 1, 0],\n",
    "          [0, 2, 1, 3],\n",
    "          [3, 1, 3, 2]]\n",
    "  \n",
    "    S1 = [[0, 1, 2, 3],\n",
    "          [2, 0, 1, 3],\n",
    "          [3, 0, 1, 0],\n",
    "          [2, 1, 0, 3]]\n",
    "    \n",
    "    L = bits[:4]\n",
    "    R = bits[4:]\n",
    "    bits = permutate(R, EP)\n",
    "    bits = XOR(bits, SK)\n",
    "    \n",
    "    rows = [int(bits[0] + bits[3], 2), int(bits[4] + bits[7], 2)]\n",
    "    cols = [int(bits[1] + bits[2], 2), int(bits[5] + bits[6], 2)]\n",
    "    LU_S0 = \"{0:02b}\".format(S0[rows[0]][cols[0]])\n",
    "    LU_S1 = \"{0:02b}\".format(S1[rows[1]][cols[1]])\n",
    "    bits = LU_S0 + LU_S1\n",
    "    bits = permutate(bits, P4)\n",
    "    return XOR(L, bits)"
   ]
  },
  {
   "cell_type": "code",
   "execution_count": 7,
   "metadata": {},
   "outputs": [],
   "source": [
    "def encrypt(raw_key, plain_text):\n",
    "    IP = [2, 6, 3, 1, 4, 8, 5, 7]\n",
    "    IPinv = [4, 1, 3, 5, 7, 2, 8, 6]\n",
    "    bits = permutate(plain_text, IP)\n",
    "    keys = keyGeneration(raw_key)\n",
    "    K1 = keys['K1']\n",
    "    K2 = keys['K2']\n",
    "    fk1 = f_k(bits, K1)\n",
    "    bits = bits[4:] + fk1\n",
    "    fk2 = f_k(bits, K2)\n",
    "    encrypted = permutate(fk2 + fk1, IPinv)\n",
    "    encrypted = \"\".join(str(i) for i in encrypted)\n",
    "    return encrypted"
   ]
  },
  {
   "cell_type": "code",
   "execution_count": 13,
   "metadata": {},
   "outputs": [
    {
     "data": {
      "text/plain": [
       "'10010000'"
      ]
     },
     "execution_count": 13,
     "metadata": {},
     "output_type": "execute_result"
    }
   ],
   "source": [
    "encrypt('0010011111', '10100101')"
   ]
  },
  {
   "cell_type": "code",
   "execution_count": 9,
   "metadata": {},
   "outputs": [],
   "source": [
    "def decrypt(raw_key, plain_text):\n",
    "    IP = [2, 6, 3, 1, 4, 8, 5, 7]\n",
    "    IPinv = [4, 1, 3, 5, 7, 2, 8, 6]\n",
    "    bits = permutate(plain_text, IP)\n",
    "    keys = keyGeneration(raw_key)\n",
    "    K1 = keys['K1']\n",
    "    K2 = keys['K2']\n",
    "    fk1 = f_k(bits, K2)\n",
    "    bits = bits[4:] + fk1\n",
    "    fk2 = f_k(bits, K1)\n",
    "    decrypted = permutate(fk2 + fk1, IPinv)\n",
    "    decrypted = \"\".join(str(i) for i in decrypted)\n",
    "    return decrypted"
   ]
  },
  {
   "cell_type": "code",
   "execution_count": 17,
   "metadata": {},
   "outputs": [
    {
     "data": {
      "text/plain": [
       "'00001100'"
      ]
     },
     "execution_count": 17,
     "metadata": {},
     "output_type": "execute_result"
    }
   ],
   "source": [
    "decrypt('1000101110', '11000010')"
   ]
  },
  {
   "cell_type": "markdown",
   "metadata": {},
   "source": [
    "# Task 2 - Triple SDES"
   ]
  },
  {
   "cell_type": "code",
   "execution_count": 33,
   "metadata": {},
   "outputs": [],
   "source": [
    "def TSDES_encrypt(raw_key1, raw_key2, plain_text):  #bascially following the \n",
    "    encrypt1 = encrypt(raw_key1, plain_text)        # formula given in task desc.\n",
    "    decrypt1 = decrypt(raw_key2, encrypt1)\n",
    "    encrypt2 = encrypt(raw_key1, decrypt1)\n",
    "    return encrypt2"
   ]
  },
  {
   "cell_type": "code",
   "execution_count": 34,
   "metadata": {},
   "outputs": [
    {
     "data": {
      "text/plain": [
       "'10000000'"
      ]
     },
     "execution_count": 34,
     "metadata": {},
     "output_type": "execute_result"
    }
   ],
   "source": [
    "TSDES_encrypt('0000000000', '0000000000', '01010010')"
   ]
  },
  {
   "cell_type": "code",
   "execution_count": 35,
   "metadata": {},
   "outputs": [],
   "source": [
    "def TSDES_decrypt(raw_key1, raw_key2, cipher_text):\n",
    "    decrypt1 = decrypt(raw_key1, cipher_text)\n",
    "    encrypt1 = encrypt(raw_key2, decrypt1)\n",
    "    decrypt2 = decrypt(raw_key1, encrypt1)\n",
    "    return decrypt2"
   ]
  },
  {
   "cell_type": "code",
   "execution_count": 39,
   "metadata": {},
   "outputs": [
    {
     "data": {
      "text/plain": [
       "'00000000'"
      ]
     },
     "execution_count": 39,
     "metadata": {},
     "output_type": "execute_result"
    }
   ],
   "source": [
    "TSDES_decrypt('0000000000', '0000000000', '11110000')"
   ]
  },
  {
   "cell_type": "markdown",
   "metadata": {},
   "source": [
    "# Task 3 - Decryption with SDES"
   ]
  },
  {
   "cell_type": "code",
   "execution_count": 27,
   "metadata": {},
   "outputs": [],
   "source": [
    "ctx1 = '01000111000000010100000011001101110010110000000101110100000000010110111001010111\\\n",
    "01010111011011100100011100000001010001111011101001001111100010000100011101101110\\\n",
    "01001100101011111001011101101110011011101011101001001111101011110000100101001010\\\n",
    "10001000010011111100110110010111010011110011001000000001010101110110111010010000\\\n",
    "01001111101011110100011110101111011101000111010000000001010011000000000101101110\\\n",
    "10111010100010000100011101101110010011001010111110010111000000011000100010010000'"
   ]
  },
  {
   "cell_type": "code",
   "execution_count": 28,
   "metadata": {},
   "outputs": [],
   "source": [
    "def findpossiblekeys():\n",
    "    possible_keys = []\n",
    "    for i in range(0, 1023):\n",
    "        key = \"{0:010b}\".format(i)\n",
    "        possible_keys.append(str(key))\n",
    "    return possible_keys"
   ]
  },
  {
   "cell_type": "code",
   "execution_count": 29,
   "metadata": {},
   "outputs": [],
   "source": [
    "def splitcipher(cipher):\n",
    "    ciphertext = cipher\n",
    "    splitted = []\n",
    "    while len(ciphertext)>0:\n",
    "        string = ciphertext[0:8]\n",
    "        splitted.append(string)\n",
    "        ciphertext = ciphertext[8:]\n",
    "    return splitted"
   ]
  },
  {
   "cell_type": "code",
   "execution_count": 30,
   "metadata": {},
   "outputs": [],
   "source": [
    "def decryptSDES(cipher):\n",
    "    possible_keys = findpossiblekeys()\n",
    "    splitted = splitcipher(cipher)\n",
    "    length = len(splitted)\n",
    "    keys = {'Raw key   ': 'Plain text'}\n",
    "    for key in possible_keys:\n",
    "        text = ''\n",
    "        valid = True\n",
    "        for i in range(0, length):\n",
    "            bits = decrypt(key, splitted[i])\n",
    "            ASCII = int(bits, 2)\n",
    "            if (ASCII>= ord('A') and ASCII <= ord('Z')) or (ASCII >= ord('a') and ASCII <= ord('z')):\n",
    "                text += chr(ASCII)\n",
    "            else:\n",
    "                valid = False\n",
    "                break\n",
    "        if valid:\n",
    "            keys[key] = text\n",
    "    return keys"
   ]
  },
  {
   "cell_type": "code",
   "execution_count": 31,
   "metadata": {},
   "outputs": [
    {
     "data": {
      "text/plain": [
       "{'Raw key   ': 'Plain text',\n",
       " '1111101010': 'simplifieddesisnotsecureenoughtoprovideyousufficientsecurity'}"
      ]
     },
     "execution_count": 31,
     "metadata": {},
     "output_type": "execute_result"
    }
   ],
   "source": [
    "decryptSDES(ctx1)"
   ]
  },
  {
   "cell_type": "markdown",
   "metadata": {},
   "source": [
    "# Task 3 - Decryption with Triple SDES"
   ]
  },
  {
   "cell_type": "code",
   "execution_count": 69,
   "metadata": {},
   "outputs": [],
   "source": [
    "ctx2 = '00000001101001110011001011000110011001001010011111010111101001111001110001110100\\\n",
    "01110100100111000000000110100111000000011001100110100001110110100000000110011100\\\n",
    "11101111011111100010010010011100100111001001100110100001011111101010000010110011\\\n",
    "11011010101000011100011000100100101000010010001110100111011101001001110001000001\\\n",
    "10100001011111100000000101111110110101111101011110100111111011111010011110011100\\\n",
    "10011001110110100000000110011100111011110111111000100100101001111101101001000001'\n"
   ]
  },
  {
   "cell_type": "code",
   "execution_count": 105,
   "metadata": {},
   "outputs": [],
   "source": [
    "def decryptTSDES(cipher):\n",
    "    possible_keys1 = findpossiblekeys()\n",
    "    possible_keys2 = findpossiblekeys()\n",
    "    splitted = splitcipher(cipher)\n",
    "    length = len(splitted)\n",
    "    keys = []\n",
    "    count = 0\n",
    "    for key1 in possible_keys1:\n",
    "        count += 1\n",
    "        if count % 10 == 0:\n",
    "            clear_output()\n",
    "            print(round((count/1024)*100), '%')\n",
    "        for key2 in possible_keys2:\n",
    "            valid = True\n",
    "            text = ''\n",
    "            for i in range(0, length):\n",
    "                bits = TSDES_decrypt(key1, key2, splitted[i])\n",
    "                ASCII = int(bits, 2)\n",
    "                if (ASCII>= ord('A') and ASCII <= ord('Z')) or (ASCII >= ord('a') and ASCII <= ord('z')):\n",
    "                    text += chr(ASCII)\n",
    "                else:\n",
    "                    valid = False\n",
    "                    break\n",
    "            if valid:\n",
    "                keys.append([key1, key2, text]) \n",
    "    return keys"
   ]
  },
  {
   "cell_type": "code",
   "execution_count": 106,
   "metadata": {},
   "outputs": [
    {
     "name": "stdout",
     "output_type": "stream",
     "text": [
      "100 %\n"
     ]
    },
    {
     "data": {
      "text/plain": [
       "[['1111101010',\n",
       "  '0101011111',\n",
       "  'simplifieddesisnotsecureenoughtoprovideyousufficientsecurity']]"
      ]
     },
     "execution_count": 106,
     "metadata": {},
     "output_type": "execute_result"
    }
   ],
   "source": [
    "decryptTSDES(ctx2)"
   ]
  },
  {
   "cell_type": "code",
   "execution_count": null,
   "metadata": {},
   "outputs": [],
   "source": []
  }
 ],
 "metadata": {
  "kernelspec": {
   "display_name": "Python 3",
   "language": "python",
   "name": "python3"
  },
  "language_info": {
   "codemirror_mode": {
    "name": "ipython",
    "version": 3
   },
   "file_extension": ".py",
   "mimetype": "text/x-python",
   "name": "python",
   "nbconvert_exporter": "python",
   "pygments_lexer": "ipython3",
   "version": "3.7.1"
  }
 },
 "nbformat": 4,
 "nbformat_minor": 2
}
