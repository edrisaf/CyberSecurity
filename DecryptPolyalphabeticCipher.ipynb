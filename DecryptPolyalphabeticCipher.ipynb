{
 "cells": [
  {
   "cell_type": "code",
   "execution_count": 2,
   "metadata": {},
   "outputs": [],
   "source": [
    "from collections import Counter\n",
    "import math\n",
    "from itertools import product, combinations, permutations\n",
    "from operator import mul\n",
    "from IPython.display import clear_output\n",
    "cipher_text = \"BQZRMQ KLBOXE WCCEFL DKRYYL BVEHIZ NYJQEE BDYFJO PTLOEM EHOMIC \\\n",
    "UYHHTS GKNJFG EHIMK NIHCTI HVRIHA RSMGQT RQCSXX CSWTNK PTMNSW \\\n",
    "AMXVCY WEOGSR FFUEEB DKQLQZ WRKUCO FTPLOT GOJZRI XEPZSE ISXTCT \\\n",
    "WZRMXI RIHALE SPRFAE FVYORI HNITRG PUHITM CFCDLA HIBKLH RCDIMT \\\n",
    "WQWTOR DJCNDY YWMJCN HDUWOF DPUPNG BANULZ NGYPQU LEUXOV FFDCEE \\\n",
    "YHQUXO YOXQUO DDCVIR RPJCAT RAQVFS AWMJCN HTSOXQ UODDAG BANURR \\\n",
    "REZJGD VJSXOO MSDNIT RGPUHN HRSSSF VFSINH MSGPCM ZJCSLY GEWGQT \\\n",
    "DREASV FPXEAR IMLPZW EHQGMG WSEIXE GQKPRM XIBFWL IPCHYM OTNXYV \\\n",
    "FFDCEE YHASBA TEXCJZ VTSGBA NUDYAP IUGTLD WLKVRI HWACZG PTRYCE \\\n",
    "VNQCUP AOSPEU KPCSNG RIHLRI KUMGFC YTDQES DAHCKP BDUJPX KPYMBD \\\n",
    "IWDQEF WSEVKT CDDWLI NEPZSE OPYIW\".replace(\" \", \"\")\n",
    "\n",
    "#decrypt cipher\n",
    "common_english_words = [\"the\", \"and\", \"for\", \"are\", \"call\", \"but\", \"not\", \"way\", \"who\", \"have\",\n",
    "                 \"you\", \"all\", \"any\", \"can\", \"had\", \"her\", \"was\", \"one\", \"our\", \"out\", \"day\", \n",
    "                \"get\", \"has\", \"him\", \"his\", \"how\", \"man\", \"new\", \"now\", \"old\", \"see\", \"two\", \"time\"\n",
    "                \"boy\", \"did\", \"its\", \"let\", \"put\", \"say\", \"she\", \"too\", \"use\", \"that\", \"with\", \"such\"\n",
    "                \"this\", \"will\", \"your\", \"from\", \"they\", \"know\", \"want\", \"been\", \"good\", \"much\", \"some\"]\n",
    "common_english_words = [word.upper() for word in common_english_words]\n"
   ]
  },
  {
   "cell_type": "code",
   "execution_count": 8,
   "metadata": {},
   "outputs": [],
   "source": [
    "def find_group_freq(group_len, cipher_text):          #Kasiski examination to find repeated groups of desired length\n",
    "    tempct = cipher_text\n",
    "    groups = []\n",
    "    length_ct = len(tempct)                           \n",
    "    while length_ct > group_len:\n",
    "        length_ct = len(tempct)\n",
    "        group = tempct[0:group_len]\n",
    "        groups.append(group)\n",
    "        \n",
    "        tempct = tempct[1:]\n",
    "    \n",
    "        \n",
    "    group_freq = {}             \n",
    "    for i in range(len(groups)):\n",
    "        repeated_group = 0\n",
    "        group_freq[groups[i]] = 0\n",
    "        for j in range(len(groups)):\n",
    "            \n",
    "            if groups[i]==groups[j]:\n",
    "                repeated_group = repeated_group +1\n",
    "                group_freq[groups[i]] = repeated_group\n",
    "           \n",
    "        group_freq_sorted = sorted(group_freq.items(), key=lambda kv: kv[1], reverse = True)\n",
    "\n",
    "    return group_freq_sorted\n"
   ]
  },
  {
   "cell_type": "code",
   "execution_count": 7,
   "metadata": {},
   "outputs": [
    {
     "name": "stdout",
     "output_type": "stream",
     "text": [
      "[80, 168, 184, 472, 504]\n"
     ]
    }
   ],
   "source": [
    "group_repetitions = find_group_freq(3, cipher_text)\n",
    "most_repeated_group = group_repetitions[0][0]\n",
    "\n",
    "def find_key_length(most_repeated_group):           # finding the key length by using GCD\n",
    "    indices = []\n",
    "    for i in range (0, len(cipher_text)):\n",
    "        if most_repeated_group == cipher_text[i:i+3]:\n",
    "           indices.append(i+1)\n",
    "    \n",
    "    gcd = indices[0]\n",
    "    for i in range(1, len(indices)):\n",
    "        gcd = math.gcd(gcd, indices[i])\n",
    "    print(indices)\n",
    "    return gcd"
   ]
  },
  {
   "cell_type": "code",
   "execution_count": 12,
   "metadata": {},
   "outputs": [
    {
     "name": "stdout",
     "output_type": "stream",
     "text": [
      "[80, 168, 184, 472, 504]\n"
     ]
    }
   ],
   "source": [
    "key_length = find_key_length(most_repeated_group)\n",
    "\n",
    "def split_cipher(key_length):                   # split ciphertext into \"key length\" separate cipher\n",
    "    temp_ct = cipher_text\n",
    "    splitted_cipher = []\n",
    "    while len(temp_ct)>=key_length:\n",
    "        splitted_cipher.append(temp_ct[:key_length])\n",
    "        temp_ct = temp_ct[key_length:]\n",
    "        \n",
    "    return splitted_cipher"
   ]
  },
  {
   "cell_type": "code",
   "execution_count": 17,
   "metadata": {
    "scrolled": true
   },
   "outputs": [
    {
     "data": {
      "text/plain": [
       "['F', 'H', 'E', 'E', 'I', 'X', 'G', 'C']"
      ]
     },
     "execution_count": 17,
     "metadata": {},
     "output_type": "execute_result"
    }
   ],
   "source": [
    "cipher_list = split_cipher(key_length)            # the ciphertext is splitted into eight separate ciphers and\n",
    "cipher_list                                       # the letters counted, and finally stored in the \"mydict\" dictionary\n",
    "mydict = {}\n",
    "\n",
    "for i in range (0, len(cipher_list)):\n",
    "    for j in range (0,len(cipher_list[i])):\n",
    "        if cipher_list[i][j] not in mydict:\n",
    "            mydict[cipher_list[i][j]] = [0]*key_length\n",
    "# for loop to add all chars to dict as dict with array\n",
    "# for loop to count\n",
    "\n",
    "for i in range (0, len(cipher_list)):\n",
    "    for j in range (0,len(cipher_list[i])):\n",
    "        counter = 0\n",
    "        for k in range(0, len(cipher_list)):\n",
    "            if cipher_list[i][j] == cipher_list[k][j]:\n",
    "                counter = counter + 1\n",
    "        mydict[cipher_list[i][j]][j] = counter\n",
    "\n",
    "most_common_char = []\n",
    "sortert = []\n",
    "nokkel = \"\"\n",
    "for i in range(0, key_length):\n",
    "    sortert = sorted(mydict.items(), key=lambda kv: kv[1][i], reverse = True)\n",
    "    nokkel = sortert[0][0]\n",
    "    most_common_char.append(nokkel)\n",
    "most_common_char\n",
    "# mydict_s = sorted(mydict.items(), key=lambda kv: kv[0])\n",
    "# mydict_s"
   ]
  },
  {
   "cell_type": "code",
   "execution_count": 6,
   "metadata": {
    "scrolled": true
   },
   "outputs": [
    {
     "name": "stdout",
     "output_type": "stream",
     "text": [
      "70.15\n"
     ]
    },
    {
     "data": {
      "text/plain": [
       "545732"
      ]
     },
     "execution_count": 6,
     "metadata": {},
     "output_type": "execute_result"
    }
   ],
   "source": [
    "mc_english_letters = [['E','T','A','O','I','N'], [12.02, 9.10, 8.12, 7.68, 7.31, 6.95]]# + SHRDLU\n",
    "etaoin_combinations = product(mc_english_letters[0], repeat = 8)\n",
    "min_freq = sum(mc_english_letters[1]) + 12.02 + 6.95              # mean frequency of the combinations\n",
    "print(min_freq)\n",
    "possible_keys = []\n",
    "for x in etaoin_combinations:\n",
    "    tot_freq = 0\n",
    "    for i in x:\n",
    "        index = mc_english_letters[0].index(i) \n",
    "        freq = mc_english_letters[1][index]\n",
    "        tot_freq += freq                            # total frequency of each key\n",
    "    if tot_freq > min_freq:                         # keep only keys with higher total frequency than the mean\n",
    "        key = \"\"\n",
    "        for i in range(len(most_common_char)):\n",
    "            ASCII_mcc = ord(most_common_char[i])\n",
    "            ASCII_char_in_x = ord(x[i])            \n",
    "            offset = ASCII_mcc - ASCII_char_in_x\n",
    "\n",
    "            if offset >= 0:\n",
    "                key_char = chr(65 + offset)\n",
    "            else:\n",
    "                offset = 26 + offset\n",
    "                key_char = chr(65 + offset)\n",
    "            key += key_char\n",
    "        possible_keys.append(key)\n",
    "len(possible_keys)"
   ]
  },
  {
   "cell_type": "code",
   "execution_count": 7,
   "metadata": {},
   "outputs": [
    {
     "name": "stdout",
     "output_type": "stream",
     "text": [
      "keys tested:  540000\n"
     ]
    }
   ],
   "source": [
    "n = round(len(cipher_text)/key_length)                      \n",
    "ranked_keys = {}\n",
    "testing_key = 0                                                \n",
    "for key in possible_keys:                                      #decrypt the ciphertext with every single key\n",
    "    if testing_key % 10000 == 0:\n",
    "        clear_output()\n",
    "        print(\"keys tested: \", testing_key)\n",
    "        \n",
    "    score = 0\n",
    "    testing_key += 1\n",
    "    plaintxt = \"\"\n",
    "    exp_key = mul(key, n)                #repeat the key over and over until same length as ciphertext\n",
    "    for i in range(0, len(cipher_text)):\n",
    "        \n",
    "        ASCII_cp = ord(cipher_text[i])\n",
    "        ASCII_key = ord(exp_key[i])\n",
    "        offset = ASCII_cp - ASCII_key\n",
    "        if offset >= 0:\n",
    "            plaintxt += chr(65 + offset)\n",
    "        \n",
    "        else:\n",
    "            plaintxt += chr(90 + offset +1)\n",
    "    \n",
    "    for word in common_english_words:    # look for common english words in the decrypted text and score for every finding\n",
    "        if plaintxt.find(word) >= 0:\n",
    "            score += 1\n",
    "    \n",
    "    if score > 0:                    # keep only keys with a score to shorten our possible_keys list\n",
    "        ranked_keys[key] = score\n",
    "ranked_keys = sorted(ranked_keys.items(), key=lambda kv: kv[1], reverse = True)"
   ]
  },
  {
   "cell_type": "code",
   "execution_count": 8,
   "metadata": {},
   "outputs": [
    {
     "name": "stdout",
     "output_type": "stream",
     "text": [
      "Key : ['BDLAEJNY']\n",
      "ANORIHXNALMESTPGEISKNPLNASTHEQAAINTEXULHILETHFRODEDMETHAGEISCBALEDTHEDXPHERTEYITHEPRODTSSOFCOOKERTINGGGOMPLAIOIEXTTOCJEHERTEXUXSKNOWNBHENCIPHFGINGOREORRYPTIOOGESTORIOVTHEPLAJCTEXTFRPBTHECIPITRTEXTITSECIPHESXNGORDEDGYPTIONUWEMANYSDWEMESUSFSFORENCSNPTIONCPCSTITUTFIHEAREAPUSTUDYKODWNASCRZETOGRAPINSUCHASDWEMEISKODWNASACSNPTOGRAQWICSYSTFBORACIPITRTECHNJFUESUSEEUORDECIQWERINGANTSSAGEWJIHOUTANZZNOWLEDHTOFTHEEORIPHERIOVDETAILTUALLINTPIHEAREAPUCRYPTAOPLYSISCSNPTANALZHISISWHBITHELAYQTRSONCAMASBREAKJCGTHECOETTHEAREBHOFCRYPUDGRAPHYBCDCRYPTBCALYSISUDGETHERBGECALLEERRYPTOLPVY\n",
      "Key : ['BDLAEKCY']\n",
      "ANORIGINALMESSAGEISKNOWNASTHEPLAINTEXTWHILETHECODEDMESSAGEISCALLEDTHECIPHERTEXTTHEPROCESSOFCONVERTINGFROMPLAINTEXTTOCIPHERTEXTISKNOWNASENCIPHERINGORENCRYPTIONRESTORINGTHEPLAINTEXTFROMTHECIPHERTEXTISDECIPHERINGORDECRYPTIONTHEMANYSCHEMESUSEDFORENCRYPTIONCONSTITUTETHEAREAOFSTUDYKNOWNASCRYPTOGRAPHYSUCHASCHEMEISKNOWNASACRYPTOGRAPHICSYSTEMORACIPHERTECHNIQUESUSEDFORDECIPHERINGAMESSAGEWITHOUTANYKNOWLEDGEOFTHEENCIPHERINGDETAILSFALLINTOTHEAREAOFCRYPTANALYSISCRYPTANALYSISISWHATTHELAYPERSONCALLSBREAKINGTHECODETHEAREASOFCRYPTOGRAPHYANDCRYPTANALYSISTOGETHERARECALLEDCRYPTOLOGY\n",
      "Key : ['BDLAIJNY']\n",
      "ANOREHXNALMEOTPGEISKJPLNASTHAQAAINTETULHILETDFRODEDMATHAGEISYBALEDTHADXPHERTAYITHEPRKDTSSOFCKOKERTINCGGOMPLAEOIEXTTOYJEHERTETUXSKNOWJBHENCIPDFGINGORAORRYPTIKOGESTOREOVTHEPLWJCTEXTFNPBTHECILITRTEXTETSECIPHASXNGORDADGYPTIOJUWEMANYODWEMESUOFSFORENYSNPTIONYPCSTITUPFIHEAREWPUSTUDYGODWNASCNZETOGRALINSUCHAODWEMEISGODWNASAYSNPTOGRWQWICSYSPFBORACILITRTECHJJFUESUSAEUORDECEQWERINGWNTSSAGESJIHOUTAJZZNOWLEZHTOFTHEAORIPHEREOVDETAIHTUALLINPPIHEAREWPUCRYPTWOPLYSISYSNPTANAHZHISISWDBITHELAUQTRSONCWMASBREAGJCGTHECKETTHEARABHOFCRYLUDGRAPHUBCDCRYPPBCALYSIOUDGETHENBGECALLAERRYPTOHPVY\n"
     ]
    }
   ],
   "source": [
    "for i in range(0, 3):    #decrypt the ciphertext with the 3 highest scored keys\n",
    "    plaintxt = \"\"\n",
    "    exp_key = mul(ranked_keys[i][0], n)\n",
    "    for j in range(0, len(cipher_text)):\n",
    "        ASCII_cp = ord(cipher_text[j])\n",
    "        ASCII_key = ord(exp_key[j])\n",
    "        offset = ASCII_cp - ASCII_key\n",
    "        if offset >= 0:\n",
    "            plaintxt += chr(65 + offset)\n",
    "        else:\n",
    "            plaintxt += chr(90 + offset + 1)\n",
    "    print('Key :', [ranked_keys[i][0]])\n",
    "    print(plaintxt)"
   ]
  },
  {
   "cell_type": "code",
   "execution_count": null,
   "metadata": {},
   "outputs": [],
   "source": []
  },
  {
   "cell_type": "code",
   "execution_count": null,
   "metadata": {},
   "outputs": [],
   "source": []
  },
  {
   "cell_type": "code",
   "execution_count": null,
   "metadata": {},
   "outputs": [],
   "source": []
  },
  {
   "cell_type": "code",
   "execution_count": null,
   "metadata": {},
   "outputs": [],
   "source": []
  },
  {
   "cell_type": "code",
   "execution_count": null,
   "metadata": {},
   "outputs": [],
   "source": []
  },
  {
   "cell_type": "code",
   "execution_count": null,
   "metadata": {},
   "outputs": [],
   "source": []
  }
 ],
 "metadata": {
  "kernelspec": {
   "display_name": "Python 3",
   "language": "python",
   "name": "python3"
  },
  "language_info": {
   "codemirror_mode": {
    "name": "ipython",
    "version": 3
   },
   "file_extension": ".py",
   "mimetype": "text/x-python",
   "name": "python",
   "nbconvert_exporter": "python",
   "pygments_lexer": "ipython3",
   "version": "3.7.1"
  }
 },
 "nbformat": 4,
 "nbformat_minor": 2
}
